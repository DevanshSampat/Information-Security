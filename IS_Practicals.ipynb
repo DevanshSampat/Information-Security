{
  "cells": [
    {
      "cell_type": "markdown",
      "metadata": {
        "id": "view-in-github",
        "colab_type": "text"
      },
      "source": [
        "<a href=\"https://colab.research.google.com/github/DevanshSampat/Information-Security/blob/master/IS_Practicals.ipynb\" target=\"_parent\"><img src=\"https://colab.research.google.com/assets/colab-badge.svg\" alt=\"Open In Colab\"/></a>"
      ]
    },
    {
      "cell_type": "markdown",
      "source": [
        "# Note: This is only for reference and I am not responsible for any misuse of this document"
      ],
      "metadata": {
        "id": "QqUxr-1E7n8F"
      }
    },
    {
      "cell_type": "markdown",
      "source": [
        "# Caesar Cipher"
      ],
      "metadata": {
        "id": "0zIiQPa_jfha"
      }
    },
    {
      "cell_type": "code",
      "source": [
        "#Caesar cipher\n",
        "def encrypt(text,s):\n",
        "    result = \"\"\n",
        "  # traverse text\n",
        "    for i in range(len(text)):\n",
        "        char = text[i]\n",
        "    # Encrypt uppercase characters\n",
        "        if (char.isupper()):\n",
        "            result += chr((ord(char) + s-65) % 26 + 65)\n",
        "    # Encrypt lowercase characters\n",
        "        else:\n",
        "            result += chr((ord(char) + s - 97) % 26 + 97)\n",
        "\n",
        "    return result\n",
        "\n",
        "text = \"ATTACKATONCE\"\n",
        "s = 4\n",
        "print (\"Text : \" + text)\n",
        "print (\"Shift : \" + str(s))\n",
        "print (\"Cipher: \" + encrypt(text,s))"
      ],
      "metadata": {
        "id": "jDyZLHEGEmHX",
        "outputId": "91dc2fac-03e1-4a6f-81d5-9621cd4613aa",
        "colab": {
          "base_uri": "https://localhost:8080/"
        }
      },
      "execution_count": null,
      "outputs": [
        {
          "output_type": "stream",
          "name": "stdout",
          "text": [
            "Text : ATTACKATONCE\n",
            "Shift : 4\n",
            "Cipher: EXXEGOEXSRGI\n"
          ]
        }
      ]
    },
    {
      "cell_type": "markdown",
      "source": [
        "# Hill Cipher"
      ],
      "metadata": {
        "id": "Y5TEfiNOjlGn"
      }
    },
    {
      "cell_type": "code",
      "source": [
        "#Hill Cipher\n",
        "keyMatrix = [[0] * 3 for i in range(3)]\n",
        "messageVector = [[0] for i in range(3)]\n",
        "cipherMatrix = [[0] for i in range(3)]\n",
        "def getKeyMatrix(key):\n",
        "\tk = 0\n",
        "\tfor i in range(3):\n",
        "\t\tfor j in range(3):\n",
        "\t\t\tkeyMatrix[i][j] = ord(key[k]) % 65\n",
        "\t\t\tk += 1\n",
        "\n",
        "def encrypt(messageVector):\n",
        "\tfor i in range(3):\n",
        "\t\tfor j in range(1):\n",
        "\t\t\tcipherMatrix[i][j] = 0\n",
        "\t\t\tfor x in range(3):\n",
        "\t\t\t\tcipherMatrix[i][j] += (keyMatrix[i][x] *\n",
        "\t\t\t\t\t\t\t\t\tmessageVector[x][j])\n",
        "\t\t\tcipherMatrix[i][j] = cipherMatrix[i][j] % 26\n",
        "\n",
        "def HillCipher(message, key):\n",
        "  getKeyMatrix(key)\n",
        "  for i in range(3):\n",
        "\t  messageVector[i][0] = ord(message[i]) % 65\n",
        "  encrypt(messageVector)\n",
        "  CipherText = []\n",
        "  for i in range(3):\n",
        "\t  CipherText.append(chr(cipherMatrix[i][0] + 65))\n",
        "  print(\"Ciphertext: \", \"\".join(CipherText))\n",
        "\n",
        "def main():\n",
        "  message = \"ACT\"\n",
        "  key = \"GYBNQKURP\"\n",
        "  HillCipher(message, key)\n",
        "\n",
        "if __name__ == \"__main__\":\n",
        "\tmain()\n",
        "\n",
        "# This code is contributed\n",
        "# by Pratik Somwanshi\n"
      ],
      "metadata": {
        "id": "mZFQ4cD6GyKj",
        "outputId": "4b1cd417-6bb1-403c-bd85-1dc8ede79ed7",
        "colab": {
          "base_uri": "https://localhost:8080/"
        }
      },
      "execution_count": null,
      "outputs": [
        {
          "output_type": "stream",
          "name": "stdout",
          "text": [
            "Ciphertext:  POH\n"
          ]
        }
      ]
    },
    {
      "cell_type": "markdown",
      "source": [
        "# Playfair"
      ],
      "metadata": {
        "id": "lMRzcZrnjoJe"
      }
    },
    {
      "cell_type": "code",
      "source": [
        "#playfair cipher\n",
        "def create_matrix(key):\n",
        "    key = key.upper()\n",
        "    matrix = [[0 for i in range (5)] for j in range(5)]\n",
        "    letters_added = []\n",
        "    row = 0\n",
        "    col = 0\n",
        "    # add the key to the matrix\n",
        "    for letter in key:\n",
        "        if letter not in letters_added:\n",
        "            matrix[row][col] = letter\n",
        "            letters_added.append(letter)\n",
        "        else:\n",
        "            continue\n",
        "        if (col==4):\n",
        "            col = 0\n",
        "            row += 1\n",
        "        else:\n",
        "            col += 1\n",
        "    #Add the rest of the alphabet to the matrix\n",
        "    for letter in range(65,91):\n",
        "        if letter==74: # I/J are in the same position\n",
        "                continue\n",
        "        if chr(letter) not in letters_added: # Do not add repeated letters\n",
        "            letters_added.append(chr(letter))\n",
        "    index = 0\n",
        "    for i in range(5):\n",
        "        for j in range(5):\n",
        "            matrix[i][j] = letters_added[index]\n",
        "            index+=1\n",
        "    return matrix\n",
        "def separate_same_letters(message):\n",
        "    index = 0\n",
        "    while (index<len(message)):\n",
        "        l1 = message[index]\n",
        "        if index == len(message)-1:\n",
        "            message = message + 'X'\n",
        "            index += 2\n",
        "            continue\n",
        "        l2 = message[index+1]\n",
        "        if l1==l2:\n",
        "            message = message[:index+1] + \"X\" + message[index+1:]\n",
        "        index +=2   \n",
        "    return message\n",
        "def indexOf(letter,matrix):\n",
        "    for i in range (5):\n",
        "        try:\n",
        "            index = matrix[i].index(letter)\n",
        "            return (i,index)\n",
        "        except:\n",
        "            continue\n",
        "def playfair(key, message, encrypt=True):\n",
        "    inc = 1\n",
        "    if encrypt==False:\n",
        "        inc = -1\n",
        "    matrix = create_matrix(key)\n",
        "    message = message.upper()\n",
        "    message = message.replace(' ','')    \n",
        "    message = separate_same_letters(message)\n",
        "    cipher_text=''\n",
        "    for (l1, l2) in zip(message[0::2], message[1::2]):\n",
        "        row1,col1 = indexOf(l1,matrix)\n",
        "        row2,col2 = indexOf(l2,matrix)\n",
        "        if row1==row2: #Rule 2, the letters are in the same row\n",
        "            cipher_text += matrix[row1][(col1+inc)%5] + matrix[row2][(col2+inc)%5]\n",
        "        elif col1==col2:# Rule 3, the letters are in the same column\n",
        "            cipher_text += matrix[(row1+inc)%5][col1] + matrix[(row2+inc)%5][col2]\n",
        "        else: #Rule 4, the letters are in a different row and column\n",
        "            cipher_text += matrix[row1][col2] + matrix[row2][col1]\n",
        "    \n",
        "    return cipher_text\n",
        "if __name__=='__main__':\n",
        "    print ('Encrypting')\n",
        "    print ( playfair('secret', 'my secret message'))\n",
        "    print ('Decrypting')\n",
        "    print ( playfair('secret', 'LZECRTCSITCVAHBT', False))\n"
      ],
      "metadata": {
        "id": "Tv21aztcI2cv",
        "outputId": "5fadd478-43df-47da-85b8-0785a49a3f91",
        "colab": {
          "base_uri": "https://localhost:8080/"
        }
      },
      "execution_count": null,
      "outputs": [
        {
          "output_type": "stream",
          "name": "stdout",
          "text": [
            "Encrypting\n",
            "LZECRTCSITCVAHBT\n",
            "Decrypting\n",
            "MYSECRETMESXSAGE\n"
          ]
        }
      ]
    },
    {
      "cell_type": "markdown",
      "source": [
        "# Single Columnar"
      ],
      "metadata": {
        "id": "qLuGTiFZjsl-"
      }
    },
    {
      "cell_type": "code",
      "source": [
        "#Single Columnar\n",
        "import math\n",
        "def encryptMessage(msg):\n",
        "\tcipher = \"\"\n",
        "\tk_indx = 0\n",
        "\tmsg_len = float(len(msg))\n",
        "\tmsg_lst = list(msg)\n",
        "\tkey_lst = sorted(list(key))\n",
        "\tcol = len(key)\n",
        "\trow = int(math.ceil(msg_len / col))\n",
        "\tfill_null = int((row * col) - msg_len)\n",
        "\tmsg_lst.extend('_' * fill_null)\n",
        "\tmatrix = [msg_lst[i: i + col]\n",
        "\t\t\tfor i in range(0, len(msg_lst), col)]\n",
        "\tfor _ in range(col):\n",
        "\t\tcurr_idx = key.index(key_lst[k_indx])\n",
        "\t\tcipher += ''.join([row[curr_idx]\n",
        "\t\t\t\t\t\tfor row in matrix])\n",
        "\t\tk_indx += 1\n",
        "\treturn cipher\n",
        "\n",
        "def decryptMessage(cipher):\n",
        "\tmsg = \"\"\n",
        "\tk_indx = 0\n",
        "\tmsg_indx = 0\n",
        "\tmsg_len = float(len(cipher))\n",
        "\tmsg_lst = list(cipher)\n",
        "\tcol = len(key)\n",
        "\trow = int(math.ceil(msg_len / col))\n",
        "\tkey_lst = sorted(list(key))\n",
        "\tdec_cipher = []\n",
        "\tfor _ in range(row):\n",
        "\t\tdec_cipher += [[None] * col]\n",
        "\n",
        "\tfor _ in range(col):\n",
        "\t\tcurr_idx = key.index(key_lst[k_indx])\n",
        "\n",
        "\t\tfor j in range(row):\n",
        "\t\t\tdec_cipher[j][curr_idx] = msg_lst[msg_indx]\n",
        "\t\t\tmsg_indx += 1\n",
        "\t\tk_indx += 1\n",
        "\n",
        "\ttry:\n",
        "\t\tmsg = ''.join(sum(dec_cipher, []))\n",
        "\texcept TypeError:\n",
        "\t\traise TypeError(\"This program cannot\",\"handle repeating words.\")\n",
        "\n",
        "\tnull_count = msg.count('_')\n",
        "\n",
        "\tif null_count > 0:\n",
        "\t\treturn msg[: -null_count]\n",
        "\n",
        "\treturn msg\n",
        "\n",
        "key = \"HACK\"\n",
        "msg = \"Hi this is Ayush\"\n",
        "cipher = encryptMessage(msg)\n",
        "print(\"Encrypted Message: {}\".format(cipher))\n",
        "\n",
        "print(\"Decryped Message: {}\".format(decryptMessage(cipher)))"
      ],
      "metadata": {
        "id": "iLIxTqC7grlz",
        "colab": {
          "base_uri": "https://localhost:8080/"
        },
        "outputId": "f4589fff-330f-4f65-914c-6930077f7432"
      },
      "execution_count": null,
      "outputs": [
        {
          "output_type": "stream",
          "name": "stdout",
          "text": [
            "Encrypted Message: iisu s sHhiyt Ah\n",
            "Decryped Message: Hi this is Ayush\n"
          ]
        }
      ]
    },
    {
      "cell_type": "markdown",
      "source": [
        "# Affine"
      ],
      "metadata": {
        "id": "mFn874fYjwDW"
      }
    },
    {
      "cell_type": "code",
      "source": [
        "#Affine\n",
        "# Implementation of Affine Cipher in Python\n",
        "# Extended Euclidean Algorithm for finding modular inverse\n",
        "# eg: modinv(7, 26) = 15\n",
        "def gcd(a, b):\n",
        "\tif a == 0 :\n",
        "\t\treturn b\n",
        "\treturn gcd(b%a, a)\n",
        "\n",
        "def modinv(a, m):\n",
        "\tg= gcd(a, m)\n",
        "\tif g != 1:\n",
        "\t\treturn None\n",
        "\telse:\n",
        "\t\treturn x % m\n",
        "\n",
        "def affine_encrypt(text, key):\n",
        "\t'''\n",
        "\tC = (a*P + b) % 26\n",
        "\t'''\n",
        "\treturn ''.join([ chr((( key[0]*(ord(t) - ord('A')) + key[1] ) % 26)\n",
        "\t\t\t\t+ ord('A')) for t in text.upper().replace(' ', '') ])\n",
        "\n",
        "def affine_decrypt(cipher, key):\n",
        "\t'''\n",
        "\tP = (a^-1 * (C - b)) % 26\n",
        "\t'''\n",
        "\treturn ''.join([ chr((( modinv(key[0], 26)*(ord(c) - ord('A') - key[1]))\n",
        "\t\t\t\t\t% 26) + ord('A')) for c in cipher ])\n",
        "\n",
        "def main():\n",
        "\ttext = 'AFFINE CIPHER'\n",
        "\tkey = [17, 20]\n",
        "\taffine_encrypted_text = affine_encrypt(text, key)\n",
        "\tprint('Encrypted Text: {}'.format( affine_encrypted_text ))\n",
        "\tprint('Decrypted Text: {}'.format( affine_decrypt(affine_encrypted_text, key) ))\n",
        "\n",
        "if __name__ == '__main__':\n",
        "\tmain()"
      ],
      "metadata": {
        "id": "1IRt1Fuvgxpi",
        "colab": {
          "base_uri": "https://localhost:8080/"
        },
        "outputId": "ff8daf9f-3b17-49fd-c8e4-cb1046abbee5"
      },
      "execution_count": null,
      "outputs": [
        {
          "output_type": "stream",
          "name": "stdout",
          "text": [
            "Encrypted Text: UBBAHKCAPJKX\n",
            "Decrypted Text: AFFINECIPHER\n"
          ]
        }
      ]
    },
    {
      "cell_type": "markdown",
      "source": [
        "# Modular Inverse Extended Euclidean"
      ],
      "metadata": {
        "id": "zQnoe7Nljxz-"
      }
    },
    {
      "cell_type": "code",
      "source": [
        "#Modular inverse using extended euclidean\n",
        "#ax + by = gcd(a, b) \n",
        "# Iterative Python 3 program to find\n",
        "# modular inverse using extended\n",
        "# Euclid algorithm\n",
        "\n",
        "# Returns modulo inverse of a with\n",
        "# respect to m using extended Euclid\n",
        "# Algorithm Assumption: a and m are\n",
        "# coprimes, i.e., gcd(a, m) = 1\n",
        "\n",
        "\n",
        "def modInverse(a, m):\n",
        "\tm0 = m\n",
        "\ty = 0\n",
        "\tx = 1\n",
        "\tif (m == 1):\n",
        "\t\treturn 0\n",
        "\twhile (a > 1):\n",
        "\t\t# q is quotient\n",
        "\t\tq = a // m\n",
        "\t\tt = m\n",
        "\t\t# m is remainder now, process\n",
        "\t\t# same as Euclid's algo\n",
        "\t\tm = a % m\n",
        "\t\ta = t\n",
        "\t\tt = y\n",
        "\t\t# Update x and y\n",
        "\t\ty = x - q * y\n",
        "\t\tx = t\n",
        "\t# Make x positive\n",
        "\tif (x < 0):\n",
        "\t\tx = x + m0\n",
        "\treturn x\n",
        "a = 3\n",
        "m = 11\n",
        "print(\"Modular multiplicative inverse is\",\n",
        "\tmodInverse(a, m))\n"
      ],
      "metadata": {
        "id": "Sj_Ll2mTgx-A"
      },
      "execution_count": null,
      "outputs": []
    },
    {
      "cell_type": "markdown",
      "source": [
        "# Euclidean GCD"
      ],
      "metadata": {
        "id": "IndGf4gXj2MA"
      }
    },
    {
      "cell_type": "code",
      "source": [
        "#GCD using Euclidean algorithm\n",
        "def gcd(a, b):\n",
        "\tif a == 0 :\n",
        "\t\treturn b\n",
        "\treturn gcd(b%a, a)\n",
        "a = 10\n",
        "b = 15\n",
        "print(\"gcd(\", a , \",\" , b, \") = \", gcd(a, b))\n",
        "a = 35\n",
        "b = 10\n",
        "print(\"gcd(\", a , \",\" , b, \") = \", gcd(a, b))\n",
        "a = 31\n",
        "b = 2\n",
        "print(\"gcd(\", a , \",\" , b, \") = \", gcd(a, b))"
      ],
      "metadata": {
        "colab": {
          "base_uri": "https://localhost:8080/"
        },
        "id": "bCGUchS-gyA-",
        "outputId": "c7ac684b-217e-441f-b2e4-eaae2684eea7"
      },
      "execution_count": null,
      "outputs": [
        {
          "output_type": "stream",
          "name": "stdout",
          "text": [
            "gcd( 10 , 15 ) =  5\n",
            "gcd( 35 , 10 ) =  5\n",
            "gcd( 31 , 2 ) =  1\n"
          ]
        }
      ]
    },
    {
      "cell_type": "markdown",
      "source": [
        "# RSA"
      ],
      "metadata": {
        "id": "S16oCoLij5lG"
      }
    },
    {
      "cell_type": "code",
      "source": [
        "#RSA\n",
        "import random\n",
        "import math\n",
        "import numpy as np\n",
        "def gcd(a, b): \n",
        "  if b == 0: \n",
        "    return a \n",
        "  return gcd(b, a % b)\n",
        "\n",
        "def primesInRange(x, y):\n",
        "  prime_list = []\n",
        "  for n in range(x, y):\n",
        "    isPrime = True\n",
        "    for num in range(2, n):\n",
        "      if n % num == 0:\n",
        "        isPrime = False\n",
        "    if isPrime:\n",
        "      prime_list.append(n)\n",
        "  return prime_list\n",
        "\n",
        "def keygeneration():\n",
        "  randprime=primesInRange(100,200)\n",
        "  rp1 = random.choice(randprime)\n",
        "  randprime.pop(randprime.index(rp1))\n",
        "  rp2 = random.choice(randprime)\n",
        "  print(\"Random prime numbers are: \",rp1,rp2)\n",
        "  n=rp1*rp2\n",
        "  on=(rp1-1)*(rp2-1)\n",
        "  e=2\n",
        "  while e < on:\n",
        "    if gcd(e, on) == 1:  \n",
        "      break \n",
        "    else: \n",
        "      e += 1\n",
        "  k=1\n",
        "  d = (1 + k*on)/e\n",
        "  while math.floor(d) != math.ceil(d): \n",
        "    k += 1 \n",
        "    d = (1 + k*on)/e\n",
        "  d = int(d)\n",
        "  print(\"Private key: \",d)\n",
        "  print(\"Public key: \",n)\n",
        "  print(\"e=\",e)\n",
        "  return d,n,e"
      ],
      "metadata": {
        "id": "I2UNjT0og-77"
      },
      "execution_count": null,
      "outputs": []
    },
    {
      "cell_type": "code",
      "execution_count": null,
      "metadata": {
        "id": "cVORmppKrcWF",
        "colab": {
          "base_uri": "https://localhost:8080/"
        },
        "outputId": "34eb9857-dece-418d-8a6b-f123925f8364"
      },
      "outputs": [
        {
          "output_type": "stream",
          "name": "stdout",
          "text": [
            "Random prime numbers are:  109 181\n",
            "Private key:  16663\n",
            "Public key:  19729\n",
            "e= 7\n",
            "6476\n"
          ]
        }
      ],
      "source": [
        "def encrypt(pt,e,n):\n",
        "  return int(pow(pt,e)%n)\n",
        "\n",
        "def decrypt(ct,d,n):\n",
        "  return int(pow(ct,d)%n)\n",
        "\n",
        "d,n,e=keygeneration()\n",
        "x=encrypt(6476,e,n)\n",
        "print(decrypt(x,d,n))"
      ]
    },
    {
      "cell_type": "markdown",
      "source": [
        "# Diffie Hellman"
      ],
      "metadata": {
        "id": "UAMTxpAvj7zF"
      }
    },
    {
      "cell_type": "code",
      "source": [
        "#Diffie Hellman\n",
        "from random import randint\n",
        "\n",
        "if __name__ == '__main__':\n",
        "\tP = 23\n",
        "\t# A primitive root for P, G is taken\n",
        "\tG = 9\n",
        "\tprint('The Value of P is :%d'%(P))\n",
        "\tprint('The Value of G is :%d'%(G))\n",
        "\t# Alice will choose the private key a\n",
        "\ta = 4\n",
        "\tprint('The Private Key a for Alice is :%d'%(a))\n",
        "\t# gets the generated key\n",
        "\tx = int(pow(G,a,P))\n",
        "\t# Bob will choose the private key b\n",
        "\tb = 3\n",
        "\tprint('The Private Key b for Bob is :%d'%(b))\n",
        "\t# gets the generated key\n",
        "\ty = int(pow(G,b,P))\n",
        "\t# Secret key for Alice\n",
        "\tka = int(pow(y,a,P))\n",
        "\t# Secret key for Bob\n",
        "\tkb = int(pow(x,b,P))\n",
        "\tprint('Secret key for the Alice is : %d'%(ka))\n",
        "\tprint('Secret Key for the Bob is : %d'%(kb))\n"
      ],
      "metadata": {
        "id": "9CLV10Jeg-_w"
      },
      "execution_count": null,
      "outputs": []
    },
    {
      "cell_type": "markdown",
      "source": [
        "# AES"
      ],
      "metadata": {
        "id": "Fzd3b8qnjY9Q"
      }
    },
    {
      "cell_type": "code",
      "source": [
        "#AES Demonstrate\n",
        "!pip install pyaes"
      ],
      "metadata": {
        "id": "-b8H6NDxhEjp"
      },
      "execution_count": null,
      "outputs": []
    },
    {
      "cell_type": "code",
      "source": [
        "import pyaes\n",
        "# A 256 bit (32 byte) key\n",
        "key = \"This_key_for_demo_purposes_only!\"\n",
        "plaintext = \"Text may be any length you wish, no padding is required\"\n",
        "# key must be bytes, so we convert it\n",
        "key = key.encode('utf-8')\n",
        "aes = pyaes.AESModeOfOperationCTR(key)    \n",
        "ciphertext = aes.encrypt(plaintext)\n",
        "# show the encrypted data\n",
        "print (ciphertext)\n",
        "# DECRYPTION\n",
        "aes = pyaes.AESModeOfOperationCTR(key)\n",
        "# decrypted data is always binary, need to decode to plaintext\n",
        "decrypted = aes.decrypt(ciphertext).decode('utf-8')\n",
        "# True\n",
        "print(decrypted)\n",
        "print (decrypted == plaintext)"
      ],
      "metadata": {
        "colab": {
          "base_uri": "https://localhost:8080/"
        },
        "id": "L67rnlR9i7ed",
        "outputId": "9accc0f6-6121-44de-98d7-8235c3fe03d0"
      },
      "execution_count": null,
      "outputs": [
        {
          "output_type": "stream",
          "name": "stdout",
          "text": [
            "b'\\xb6\\x99\\x10=\\xa4\\x96\\x88\\xd1\\x89\\x1co\\xe6\\x1d\\xef;\\x11\\x03\\xe3\\xee\\xa9V?wY\\xbfe\\xcdO\\xe3\\xdf\\x9dV\\x19\\xe5\\x8dk\\x9fh\\xb87>\\xdb\\xa3\\xd6\\x86\\xf4\\xbd\\xb0\\x97\\xf1\\t\\x02\\xe9 \\xed'\n",
            "Text may be any length you wish, no padding is required\n",
            "True\n"
          ]
        }
      ]
    },
    {
      "cell_type": "markdown",
      "source": [
        "# DES"
      ],
      "metadata": {
        "id": "MPXsHPKkkBbH"
      }
    },
    {
      "cell_type": "code",
      "source": [
        "#DES Demonstrate\n",
        "!pip install des"
      ],
      "metadata": {
        "id": "XfGPM270hEmm"
      },
      "execution_count": null,
      "outputs": []
    },
    {
      "cell_type": "code",
      "source": [
        "from des import DesKey\n",
        "key0 = DesKey(b\"some_key\")     \n",
        "print(key0.is_single())\n",
        "print(key0.is_triple())\n",
        "ciphertext=key0.encrypt(b\"any long message\",padding=True)\n",
        "print(ciphertext)\n",
        "decrypted=key0.decrypt(ciphertext, padding=True)\n",
        "print(decrypted)"
      ],
      "metadata": {
        "colab": {
          "base_uri": "https://localhost:8080/"
        },
        "id": "8hn54VrGkizB",
        "outputId": "d110dbc2-c53e-412e-8890-664afa547039"
      },
      "execution_count": null,
      "outputs": [
        {
          "output_type": "stream",
          "name": "stdout",
          "text": [
            "True\n",
            "False\n",
            "b'\\x99\\x90\\xcd\\x92\\xbd\\xd1\\xd0t\\xef\\x8f\\x1e \\x1a\\xb4)o_%k\\x84/-x\\xff'\n",
            "b'any long message'\n"
          ]
        }
      ]
    },
    {
      "cell_type": "markdown",
      "source": [
        "# MD5"
      ],
      "metadata": {
        "id": "HwVcNNvpkCwS"
      }
    },
    {
      "cell_type": "code",
      "source": [
        "#MD5 Demonstrate\n",
        "import hashlib\n",
        "# encoding GeeksforGeeks using md5 hash\n",
        "# function \n",
        "result = hashlib.md5(b'This is MD5 example')\n",
        "# printing the equivalent byte value.\n",
        "print(\"The byte equivalent of hash is : \", end =\"\")\n",
        "print(result.digest())\n",
        "print(\"The hex equivalent of hash is : \", end =\"\")\n",
        "print(result.hexdigest())"
      ],
      "metadata": {
        "colab": {
          "base_uri": "https://localhost:8080/"
        },
        "id": "kxzZghjwhPuy",
        "outputId": "0616e0a9-1dd6-4fe2-a6c5-e120e9bcf5b7"
      },
      "execution_count": null,
      "outputs": [
        {
          "output_type": "stream",
          "name": "stdout",
          "text": [
            "The byte equivalent of hash is : b'\\x00T\\xcd\\x80\\x83B\\x9a{\\x0cF\\xf7CI\\xc3F\\xd4'\n",
            "The hex equivalent of hash is : 0054cd8083429a7b0c46f74349c346d4\n"
          ]
        }
      ]
    },
    {
      "cell_type": "markdown",
      "source": [
        "# Primitive Root"
      ],
      "metadata": {
        "id": "7VDXFwZIkEuQ"
      }
    },
    {
      "cell_type": "code",
      "source": [
        "#Find Primitive root of given number\n",
        "from math import gcd as bltin_gcd\n",
        "\n",
        "def primRoots(modulo):\n",
        "    required_set = {num for num in range(1, modulo) if bltin_gcd(num, modulo) }\n",
        "    return [g for g in range(1, modulo) if required_set == {pow(g, powers, modulo)\n",
        "            for powers in range(1, modulo)}]\n",
        "\n",
        "print(primRoots(17))"
      ],
      "metadata": {
        "colab": {
          "base_uri": "https://localhost:8080/"
        },
        "id": "dW8VIdykhTLz",
        "outputId": "da51573c-8eba-4117-d737-2f8bf1cc3380"
      },
      "execution_count": null,
      "outputs": [
        {
          "output_type": "stream",
          "name": "stdout",
          "text": [
            "[3, 5, 6, 7, 10, 11, 12, 14]\n"
          ]
        }
      ]
    },
    {
      "cell_type": "markdown",
      "source": [
        "# SHA"
      ],
      "metadata": {
        "id": "rWWRiSh-kHLO"
      }
    },
    {
      "cell_type": "code",
      "source": [
        "#Demonstrate SHA\n",
        "import hashlib\n",
        "# printing available algorithms\n",
        "print(hashlib.algorithms_guaranteed)"
      ],
      "metadata": {
        "colab": {
          "base_uri": "https://localhost:8080/"
        },
        "id": "Nfx3b8P9hZpK",
        "outputId": "c3041b4e-2e40-4923-f1ea-8fd9bed40061"
      },
      "execution_count": null,
      "outputs": [
        {
          "output_type": "stream",
          "name": "stdout",
          "text": [
            "{'blake2b', 'sha1', 'sha256', 'sha384', 'sha224', 'sha3_224', 'sha3_512', 'shake_256', 'shake_128', 'blake2s', 'md5', 'sha3_256', 'sha512', 'sha3_384'}\n"
          ]
        }
      ]
    },
    {
      "cell_type": "code",
      "source": [
        "import hashlib\n",
        "name = 'Tutorialspoint'\n",
        "encoded_name = name.encode()\n",
        "print(\"Encoded: \",encoded_name)\n",
        "hashed_name = hashlib.sha256(encoded_name)\n",
        "print(\"Hexadecimal format:\", hashed_name.hexdigest())\n",
        "print(\"Byte format:\", hashed_name.digest())"
      ],
      "metadata": {
        "colab": {
          "base_uri": "https://localhost:8080/"
        },
        "id": "P7hXhYpsqhZ6",
        "outputId": "74382038-92c0-46a3-bed8-06697a27c8d1"
      },
      "execution_count": null,
      "outputs": [
        {
          "output_type": "stream",
          "name": "stdout",
          "text": [
            "Encoded:  b'Tutorialspoint'\n",
            "Hexadecimal format: 447c2329228a452aa77102dc7d4eca0ee4c6d52a17e9c17408f8917e51e96533\n",
            "Byte format: b'D|#)\"\\x8aE*\\xa7q\\x02\\xdc}N\\xca\\x0e\\xe4\\xc6\\xd5*\\x17\\xe9\\xc1t\\x08\\xf8\\x91~Q\\xe9e3'\n"
          ]
        }
      ]
    },
    {
      "cell_type": "markdown",
      "source": [
        "# Buffer Overflow"
      ],
      "metadata": {
        "id": "dPWOLxDIkI4r"
      }
    },
    {
      "cell_type": "code",
      "source": [
        "\n",
        "#Demonstrate Buffer overflow\n",
        "#Not in Python\n",
        "//Code used to show Buffer Overflow\n",
        "#include <stdio.h> \n",
        "#include <string.h> \n",
        "#define UP_MAXLEN 20 \n",
        "#define UP_PAIR_COUNT 3\n",
        "int main ()\n",
        "{\n",
        " int flag;\n",
        " char termBuf;\n",
        " char username[UP_MAXLEN];\n",
        " char cpass[UP_MAXLEN];\n",
        " char npass[UP_MAXLEN];\n",
        " char keys[UP_PAIR_COUNT][2][UP_MAXLEN] =\n",
        " { {\"Admin\", \"pass3693\"}, {\"Max\", \"Qqkaif\"}, {\"Sally\", \"Usfsmfs\"} };\n",
        " while (1)\n",
        " {\n",
        " flag = 0;\n",
        " printf (\"Change Password\\n\");\n",
        " printf (\"Enter Username: \");\n",
        " gets (username);\n",
        " printf (\"Enter Current Password: \");\n",
        " gets (cpass);\n",
        " for (int i = 0; i < UP_PAIR_COUNT; i++)\n",
        "{\n",
        " if (strcmp (keys[i][0], username) == 0\n",
        " && strcmp (keys[i][1], cpass) == 0)\n",
        " {\n",
        " printf (\"Enter New Password: \");\n",
        " gets (npass);\n",
        " strcpy (&keys[i][1][0], npass);\n",
        " for (int j = 0; j < UP_PAIR_COUNT; j++)\n",
        "printf (\"%s | %s\\n\", keys[j][0], keys[j][1]);\n",
        " printf (\"Password Changed!\\n\");\n",
        " printf (\"Continue? Y/N: \");\n",
        " gets (&termBuf)\n",
        "if (termBuf != 'Y')\n",
        "return 0;\n",
        " else\n",
        "flag = 1;\n",
        "}\n",
        "}\n",
        " if (flag == 1)\n",
        "continue;\n",
        " printf (\"Incorrect Username and Password. Enter Y to continue.\\n\");\n",
        " gets (&termBuf);\n",
        " if (termBuf != 'Y')\n",
        "return 0;\n",
        " }\n",
        "}"
      ],
      "metadata": {
        "id": "_HBU3ozmheZL"
      },
      "execution_count": null,
      "outputs": []
    },
    {
      "cell_type": "code",
      "source": [
        "#removed buffer overflow\n",
        "#include <stdio.h> \n",
        "#include <string.h> \n",
        "#define UP_MAXLEN 20 \n",
        "#define UP_PAIR_COUNT 3 \n",
        "int main() \n",
        "{ \n",
        " int flag; \n",
        " char termBuf; \n",
        " char username[UP_MAXLEN]; \n",
        " char cpass[UP_MAXLEN]; \n",
        " char npass[UP_MAXLEN]; \n",
        " char keys[UP_PAIR_COUNT][2][UP_MAXLEN] = { {\"Admin\", \"pass3693\"}, {\"Max\", \n",
        "\"Qqkaif\"}, {\"Sally\",\"Usfsmfs\"} }; while (1) {\n",
        "flag = 0;\n",
        "printf (\"Change Password\\n\");\n",
        "printf (\"Enter Username: \");\n",
        "fgets (username, UP_MAXLEN, stdin);\n",
        "username[strcspn (username, \"\\r\\n\")] = 0;\n",
        "printf (\"Enter Current Password: \");\n",
        "fgets (cpass, UP_MAXLEN, stdin);\n",
        "cpass[strcspn (cpass, \"\\r\\n\")] = 0;\n",
        "for (int i = 0; i < UP_PAIR_COUNT; i++)\n",
        " {\n",
        "if (strcmp (keys[i][0], username) == 0\n",
        "&& strcmp (keys[i][1], cpass) == 0)\n",
        " {\n",
        "printf (\"Enter New Password: \");\n",
        "fgets (npass, UP_MAXLEN, stdin);\n",
        "npass[strcspn (npass, \"\\n\")] = 0;\n",
        "strcpy (&keys[i][1][0], npass);\n",
        "for (int j = 0; j < UP_PAIR_COUNT; j++)\n",
        "printf (\"%s | %s\\n\", keys[j][0], keys[j][1]);\n",
        "printf (\"Password Changed!\\n\");\n",
        "printf (\"Continue? Y/N: \");\n",
        "scanf (\"%c\", &termBuf);\n",
        "if (termBuf != 'Y')\n",
        "return 0;\n",
        "else\n",
        "flag = 1;\n",
        "while ((termBuf = getchar ()) != '\\n' && termBuf != EOF);\n",
        "}\n",
        "}\n",
        "if (flag == 1)\n",
        "continue;\n",
        "printf (\"Incorrect Username and Password. Enter Y to continue.\\n\");\n",
        "scanf (\"%c\", &termBuf);\n",
        "if (termBuf != 'Y')\n",
        "return 0;\n",
        "while ((termBuf = getchar ()) != '\\n' && termBuf != EOF);\n",
        "}\n",
        "}"
      ],
      "metadata": {
        "id": "vxKYmUaa9Umu"
      },
      "execution_count": null,
      "outputs": []
    },
    {
      "cell_type": "code",
      "source": [
        "#Own Algorithm"
      ],
      "metadata": {
        "id": "oM18gGB2hkep"
      },
      "execution_count": null,
      "outputs": []
    }
  ],
  "metadata": {
    "colab": {
      "collapsed_sections": [],
      "name": "IS Practicals",
      "provenance": [],
      "include_colab_link": true
    },
    "kernelspec": {
      "display_name": "Python 3",
      "name": "python3"
    }
  },
  "nbformat": 4,
  "nbformat_minor": 0
}